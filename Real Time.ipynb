{
 "cells": [
  {
   "cell_type": "markdown",
   "id": "102b39f8",
   "metadata": {},
   "source": [
    "## Model Testing"
   ]
  },
  {
   "cell_type": "code",
   "execution_count": null,
   "id": "82ae22fb",
   "metadata": {},
   "outputs": [],
   "source": [
    "import tensorflow as tf"
   ]
  },
  {
   "cell_type": "code",
   "execution_count": null,
   "id": "f716e776",
   "metadata": {},
   "outputs": [],
   "source": [
    "from keras.models import load_model\n",
    "\n",
    "model = load_model(\"vgg16.h5\" , compile = False)\n",
    "model.compile(optimizer=tf.keras.optimizers.Adam(), loss=\"binary_crossentropy\" , metrics=[\"accuracy\"]) \n"
   ]
  },
  {
   "cell_type": "code",
   "execution_count": null,
   "id": "32f50466",
   "metadata": {},
   "outputs": [],
   "source": [
    "import keras.utils as image"
   ]
  },
  {
   "cell_type": "code",
   "execution_count": null,
   "id": "9b0c528d",
   "metadata": {},
   "outputs": [],
   "source": [
    "from tensorflow.keras.preprocessing.image import load_img, img_to_array\n",
    "import numpy as np\n",
    "import keras.utils as image\n",
    "\n",
    "# Replace these values with your model's input shape\n",
    "target_size = (227, 227)\n",
    "\n",
    "img_path = \"Cracks/train/Positive/00008.jpg\"\n",
    "img = load_img(img_path, target_size=target_size)\n",
    "img_array = img_to_array(img)\n",
    "img_array = np.expand_dims(img_array, axis=0)  # Add batch dimension\n",
    "\n",
    "# Now, you can use img_array for prediction\n",
    "predict = model.predict(img_array)\n"
   ]
  },
  {
   "cell_type": "code",
   "execution_count": null,
   "id": "046bfc04",
   "metadata": {},
   "outputs": [],
   "source": [
    "if predict >= 1 :\n",
    "    print('possitive')\n",
    "elif predict <1:\n",
    "    print(\"Negative\")"
   ]
  },
  {
   "cell_type": "markdown",
   "id": "dbd5a6ed",
   "metadata": {},
   "source": [
    "## Real Time Deployment"
   ]
  },
  {
   "cell_type": "code",
   "execution_count": null,
   "id": "1fa86893",
   "metadata": {
    "scrolled": false
   },
   "outputs": [],
   "source": [
    "import cv2\n",
    "import numpy as np\n",
    "from tensorflow.keras.preprocessing.image import img_to_array\n",
    "from tensorflow.keras.models import load_model\n",
    "from tensorflow.keras.preprocessing.image import load_img, img_to_array\n",
    "import numpy as np\n",
    "import keras.utils as image\n",
    "\n",
    "# Load your model\n",
    "from keras.models import load_model\n",
    "model = load_model(\"vgg16.h5\" , compile = False)\n",
    "model.compile(optimizer=tf.keras.optimizers.Adam(), loss=\"binary_crossentropy\" , metrics=[\"accuracy\"]) \n",
    "\n",
    "cap = cv2.VideoCapture(0)\n",
    "\n",
    "while True:\n",
    "    ret, frame = cap.read()\n",
    "    cv2.imshow('frame', frame) \n",
    "    \n",
    "    input_size = (227, 227)\n",
    "    frame = cv2.resize(frame, input_size)\n",
    "\n",
    "    \n",
    "    frame_array = img_to_array(frame)\n",
    "    frame_array = np.expand_dims(frame_array, axis=0)\n",
    "\n",
    "    \n",
    "    predictions = model.predict(frame_array)\n",
    "\n",
    "   \n",
    "    if predictions >= 1 :\n",
    "        print('possitive There Are A Crack')\n",
    "    elif predictions <1:\n",
    "        print(\"Negative There Aren't A Crack\")\n",
    "    \n",
    "    if cv2.waitKey(500) & 0xFF == ord('q'):\n",
    "        break\n",
    "\n",
    "\n",
    "cap.release()\n",
    "cv2.destroyAllWindows()"
   ]
  }
 ],
 "metadata": {
  "kernelspec": {
   "display_name": "Python 3 (ipykernel)",
   "language": "python",
   "name": "python3"
  },
  "language_info": {
   "codemirror_mode": {
    "name": "ipython",
    "version": 3
   },
   "file_extension": ".py",
   "mimetype": "text/x-python",
   "name": "python",
   "nbconvert_exporter": "python",
   "pygments_lexer": "ipython3",
   "version": "3.10.9"
  }
 },
 "nbformat": 4,
 "nbformat_minor": 5
}
